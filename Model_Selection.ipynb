{
 "cells": [
  {
   "cell_type": "code",
   "execution_count": 192,
   "id": "183d3e9a-c08a-432a-be07-a3d441b7d4d4",
   "metadata": {},
   "outputs": [],
   "source": [
    "# Imports\n",
    "import os\n",
    "import warnings\n",
    "import numpy as np\n",
    "import pandas as pd\n",
    "\n",
    "from sklearn.model_selection import train_test_split, cross_val_score\n",
    "from sklearn.compose import ColumnTransformer\n",
    "from sklearn.preprocessing import OneHotEncoder, OrdinalEncoder, MinMaxScaler, KBinsDiscretizer\n",
    "from sklearn.pipeline import Pipeline\n",
    "from sklearn.metrics import accuracy_score\n",
    "from sklearn import (\n",
    "    ensemble, gaussian_process, linear_model, naive_bayes,\n",
    "    neighbors, svm, tree, discriminant_analysis\n",
    ")\n",
    "from xgboost import XGBClassifier\n",
    "\n",
    "# Suppress warnings\n",
    "warnings.filterwarnings(\"ignore\")"
   ]
  },
  {
   "cell_type": "code",
   "execution_count": null,
   "id": "a271c9a7",
   "metadata": {},
   "outputs": [],
   "source": []
  },
  {
   "cell_type": "code",
   "execution_count": 193,
   "id": "dfb92bc2-f264-480a-97e9-8eba78b1a71e",
   "metadata": {},
   "outputs": [
    {
     "name": "stdout",
     "output_type": "stream",
     "text": [
      "input/test.csv\n",
      "input/train_cleaned.csv\n",
      "input/test_cleaned.csv\n",
      "input/titanic_data.csv\n",
      "input/combined_cleaned.csv\n",
      "input/train.csv\n"
     ]
    }
   ],
   "source": [
    "# Suppress warnings\n",
    "warnings.filterwarnings(\"ignore\")\n",
    "\n",
    "# Load data\n",
    "for dirname, _, filenames in os.walk('input'):\n",
    "    for filename in filenames:\n",
    "        print(os.path.join(dirname, filename))\n",
    "\n",
    "train = pd.read_csv('input/train_cleaned.csv')\n",
    "#test = pd.read_csv('input/test_cleaned.csv')\n",
    "#train = pd.read_csv('input/combined_cleaned.csv')"
   ]
  },
  {
   "cell_type": "code",
   "execution_count": 194,
   "id": "6451a011-95f0-4fab-ae27-b99de21ddf83",
   "metadata": {},
   "outputs": [
    {
     "data": {
      "text/html": [
       "<div>\n",
       "<style scoped>\n",
       "    .dataframe tbody tr th:only-of-type {\n",
       "        vertical-align: middle;\n",
       "    }\n",
       "\n",
       "    .dataframe tbody tr th {\n",
       "        vertical-align: top;\n",
       "    }\n",
       "\n",
       "    .dataframe thead th {\n",
       "        text-align: right;\n",
       "    }\n",
       "</style>\n",
       "<table border=\"1\" class=\"dataframe\">\n",
       "  <thead>\n",
       "    <tr style=\"text-align: right;\">\n",
       "      <th></th>\n",
       "      <th>Age</th>\n",
       "      <th>Embarked</th>\n",
       "      <th>Fare</th>\n",
       "      <th>PassengerId</th>\n",
       "      <th>Pclass</th>\n",
       "      <th>Sex</th>\n",
       "      <th>Survived</th>\n",
       "      <th>Title</th>\n",
       "      <th>Family_size</th>\n",
       "    </tr>\n",
       "  </thead>\n",
       "  <tbody>\n",
       "    <tr>\n",
       "      <th>259</th>\n",
       "      <td>50</td>\n",
       "      <td>S</td>\n",
       "      <td>26.0000</td>\n",
       "      <td>260</td>\n",
       "      <td>2</td>\n",
       "      <td>female</td>\n",
       "      <td>1</td>\n",
       "      <td>Mrs</td>\n",
       "      <td>Small</td>\n",
       "    </tr>\n",
       "    <tr>\n",
       "      <th>109</th>\n",
       "      <td>22</td>\n",
       "      <td>Q</td>\n",
       "      <td>24.1500</td>\n",
       "      <td>110</td>\n",
       "      <td>3</td>\n",
       "      <td>female</td>\n",
       "      <td>1</td>\n",
       "      <td>Miss</td>\n",
       "      <td>Small</td>\n",
       "    </tr>\n",
       "    <tr>\n",
       "      <th>164</th>\n",
       "      <td>1</td>\n",
       "      <td>S</td>\n",
       "      <td>39.6875</td>\n",
       "      <td>165</td>\n",
       "      <td>3</td>\n",
       "      <td>male</td>\n",
       "      <td>0</td>\n",
       "      <td>Master</td>\n",
       "      <td>Large</td>\n",
       "    </tr>\n",
       "    <tr>\n",
       "      <th>18</th>\n",
       "      <td>31</td>\n",
       "      <td>S</td>\n",
       "      <td>18.0000</td>\n",
       "      <td>19</td>\n",
       "      <td>3</td>\n",
       "      <td>female</td>\n",
       "      <td>0</td>\n",
       "      <td>Mrs</td>\n",
       "      <td>Small</td>\n",
       "    </tr>\n",
       "    <tr>\n",
       "      <th>562</th>\n",
       "      <td>28</td>\n",
       "      <td>S</td>\n",
       "      <td>13.5000</td>\n",
       "      <td>563</td>\n",
       "      <td>2</td>\n",
       "      <td>male</td>\n",
       "      <td>0</td>\n",
       "      <td>Mr</td>\n",
       "      <td>Alone</td>\n",
       "    </tr>\n",
       "  </tbody>\n",
       "</table>\n",
       "</div>"
      ],
      "text/plain": [
       "     Age Embarked     Fare  PassengerId  Pclass     Sex  Survived   Title  \\\n",
       "259   50        S  26.0000          260       2  female         1     Mrs   \n",
       "109   22        Q  24.1500          110       3  female         1    Miss   \n",
       "164    1        S  39.6875          165       3    male         0  Master   \n",
       "18    31        S  18.0000           19       3  female         0     Mrs   \n",
       "562   28        S  13.5000          563       2    male         0      Mr   \n",
       "\n",
       "    Family_size  \n",
       "259       Small  \n",
       "109       Small  \n",
       "164       Large  \n",
       "18        Small  \n",
       "562       Alone  "
      ]
     },
     "execution_count": 194,
     "metadata": {},
     "output_type": "execute_result"
    }
   ],
   "source": [
    "train.sample(5)"
   ]
  },
  {
   "cell_type": "code",
   "execution_count": 196,
   "id": "e436be0f",
   "metadata": {},
   "outputs": [
    {
     "name": "stdout",
     "output_type": "stream",
     "text": [
      "Age              int64\n",
      "Embarked        object\n",
      "Fare           float64\n",
      "PassengerId      int64\n",
      "Pclass           int64\n",
      "Sex             object\n",
      "Survived         int64\n",
      "Title           object\n",
      "Family_size     object\n",
      "dtype: object\n"
     ]
    }
   ],
   "source": [
    "print(train.dtypes)"
   ]
  },
  {
   "cell_type": "code",
   "execution_count": 126,
   "id": "737885dd-8dc6-46b6-bbe0-88dca26df210",
   "metadata": {},
   "outputs": [
    {
     "data": {
      "text/html": [
       "<div>\n",
       "<style scoped>\n",
       "    .dataframe tbody tr th:only-of-type {\n",
       "        vertical-align: middle;\n",
       "    }\n",
       "\n",
       "    .dataframe tbody tr th {\n",
       "        vertical-align: top;\n",
       "    }\n",
       "\n",
       "    .dataframe thead th {\n",
       "        text-align: right;\n",
       "    }\n",
       "</style>\n",
       "<table border=\"1\" class=\"dataframe\">\n",
       "  <thead>\n",
       "    <tr style=\"text-align: right;\">\n",
       "      <th></th>\n",
       "      <th>Age</th>\n",
       "      <th>Embarked</th>\n",
       "      <th>Fare</th>\n",
       "      <th>PassengerId</th>\n",
       "      <th>Pclass</th>\n",
       "      <th>Sex</th>\n",
       "      <th>Survived</th>\n",
       "      <th>Title</th>\n",
       "      <th>Family_size</th>\n",
       "    </tr>\n",
       "  </thead>\n",
       "  <tbody>\n",
       "    <tr>\n",
       "      <th>965</th>\n",
       "      <td>35</td>\n",
       "      <td>C</td>\n",
       "      <td>211.5000</td>\n",
       "      <td>966</td>\n",
       "      <td>1</td>\n",
       "      <td>female</td>\n",
       "      <td>0</td>\n",
       "      <td>Miss</td>\n",
       "      <td>Alone</td>\n",
       "    </tr>\n",
       "    <tr>\n",
       "      <th>709</th>\n",
       "      <td>25</td>\n",
       "      <td>C</td>\n",
       "      <td>15.2458</td>\n",
       "      <td>710</td>\n",
       "      <td>3</td>\n",
       "      <td>male</td>\n",
       "      <td>1</td>\n",
       "      <td>Master</td>\n",
       "      <td>Small</td>\n",
       "    </tr>\n",
       "    <tr>\n",
       "      <th>1293</th>\n",
       "      <td>22</td>\n",
       "      <td>C</td>\n",
       "      <td>59.4000</td>\n",
       "      <td>1294</td>\n",
       "      <td>1</td>\n",
       "      <td>female</td>\n",
       "      <td>0</td>\n",
       "      <td>Miss</td>\n",
       "      <td>Small</td>\n",
       "    </tr>\n",
       "    <tr>\n",
       "      <th>1298</th>\n",
       "      <td>50</td>\n",
       "      <td>C</td>\n",
       "      <td>211.5000</td>\n",
       "      <td>1299</td>\n",
       "      <td>1</td>\n",
       "      <td>male</td>\n",
       "      <td>0</td>\n",
       "      <td>Mr</td>\n",
       "      <td>Small</td>\n",
       "    </tr>\n",
       "    <tr>\n",
       "      <th>1108</th>\n",
       "      <td>57</td>\n",
       "      <td>S</td>\n",
       "      <td>164.8667</td>\n",
       "      <td>1109</td>\n",
       "      <td>1</td>\n",
       "      <td>male</td>\n",
       "      <td>0</td>\n",
       "      <td>Mr</td>\n",
       "      <td>Small</td>\n",
       "    </tr>\n",
       "  </tbody>\n",
       "</table>\n",
       "</div>"
      ],
      "text/plain": [
       "      Age Embarked      Fare  PassengerId  Pclass     Sex  Survived   Title  \\\n",
       "965    35        C  211.5000          966       1  female         0    Miss   \n",
       "709    25        C   15.2458          710       3    male         1  Master   \n",
       "1293   22        C   59.4000         1294       1  female         0    Miss   \n",
       "1298   50        C  211.5000         1299       1    male         0      Mr   \n",
       "1108   57        S  164.8667         1109       1    male         0      Mr   \n",
       "\n",
       "     Family_size  \n",
       "965        Alone  \n",
       "709        Small  \n",
       "1293       Small  \n",
       "1298       Small  \n",
       "1108       Small  "
      ]
     },
     "execution_count": 126,
     "metadata": {},
     "output_type": "execute_result"
    }
   ],
   "source": [
    "df.sample(5)"
   ]
  },
  {
   "cell_type": "code",
   "execution_count": 127,
   "id": "d3a4df9a-9995-4c2d-898c-dbf6b3d1f647",
   "metadata": {},
   "outputs": [],
   "source": [
    "# Prepare target and drop unnecessary columns\n",
    "train['Survived'] = train['Survived'].astype('int64')\n",
    "train.drop(\"PassengerId\", axis=1, inplace=True)"
   ]
  },
  {
   "cell_type": "code",
   "execution_count": 128,
   "id": "5528d385-2db8-4c06-a228-d0f679102e69",
   "metadata": {},
   "outputs": [],
   "source": [
    "# Split features and target\n",
    "X = train.drop(\"Survived\", axis=1)\n",
    "y = train[\"Survived\"]"
   ]
  },
  {
   "cell_type": "code",
   "execution_count": 129,
   "id": "0076c123-4b71-4cf4-915f-24272395ebec",
   "metadata": {},
   "outputs": [],
   "source": [
    "# Train/test split\n",
    "X_train, X_test, y_train, y_test = train_test_split(X, y, test_size=0.20, random_state=42)"
   ]
  },
  {
   "cell_type": "code",
   "execution_count": 130,
   "id": "225facfd-1eec-4b34-910d-c300f38ecb5a",
   "metadata": {},
   "outputs": [],
   "source": [
    "# Data Transformation Pipelines\n",
    "num_cat_transformation = ColumnTransformer([\n",
    "    ('scaling', MinMaxScaler(), [0, 2]),\n",
    "    ('onehot_encoding1', OneHotEncoder(), [1, 3]),\n",
    "    ('ordinal_encoding', OrdinalEncoder(), [4]),\n",
    "    ('onehot_encoding2', OneHotEncoder(), [5, 6])\n",
    "], remainder='passthrough')"
   ]
  },
  {
   "cell_type": "code",
   "execution_count": 131,
   "id": "98e195c7-1a16-407a-87c2-9f207ffbf6d6",
   "metadata": {},
   "outputs": [],
   "source": [
    "bins = ColumnTransformer([\n",
    "    ('Kbins', KBinsDiscretizer(n_bins=15, encode='ordinal', strategy='quantile'), [0, 2]),\n",
    "], remainder='passthrough')"
   ]
  },
  {
   "cell_type": "code",
   "execution_count": 132,
   "id": "c836410e-4e51-4f46-bfe3-d3476ef9265d",
   "metadata": {},
   "outputs": [],
   "source": [
    "# Function to create a pipeline for each model\n",
    "def create_pipeline(algo):\n",
    "    return Pipeline([\n",
    "        ('num_cat_transformation', num_cat_transformation),\n",
    "        ('bins', bins),\n",
    "        ('classifier', algo)\n",
    "    ])"
   ]
  },
  {
   "cell_type": "code",
   "execution_count": 133,
   "id": "c3b22d6e-b29f-4ce5-8efe-76afadceba85",
   "metadata": {},
   "outputs": [],
   "source": [
    "# List of classification algorithms to evaluate\n",
    "algorithms = [\n",
    "    # Ensemble\n",
    "    ensemble.AdaBoostClassifier(),\n",
    "    ensemble.BaggingClassifier(),\n",
    "    ensemble.ExtraTreesClassifier(),\n",
    "    ensemble.GradientBoostingClassifier(),\n",
    "    ensemble.RandomForestClassifier(),\n",
    "\n",
    "    # Gaussian Processes\n",
    "    gaussian_process.GaussianProcessClassifier(),\n",
    "\n",
    "    # GLMs\n",
    "    linear_model.LogisticRegressionCV(),\n",
    "    linear_model.PassiveAggressiveClassifier(),\n",
    "    linear_model.RidgeClassifierCV(),\n",
    "    linear_model.SGDClassifier(),\n",
    "    linear_model.Perceptron(),\n",
    "\n",
    "    # Naive Bayes\n",
    "    naive_bayes.BernoulliNB(),\n",
    "    naive_bayes.GaussianNB(),\n",
    "\n",
    "    # Nearest Neighbor\n",
    "    neighbors.KNeighborsClassifier(),\n",
    "\n",
    "    # SVMs\n",
    "    svm.SVC(probability=True),\n",
    "    svm.NuSVC(probability=True),\n",
    "    svm.LinearSVC(),\n",
    "\n",
    "    # Trees\n",
    "    tree.DecisionTreeClassifier(),\n",
    "    tree.ExtraTreeClassifier(),\n",
    "\n",
    "    # Discriminant Analysis\n",
    "    discriminant_analysis.LinearDiscriminantAnalysis(),\n",
    "    discriminant_analysis.QuadraticDiscriminantAnalysis(),\n",
    "\n",
    "    # XGBoost\n",
    "    XGBClassifier()\n",
    "]"
   ]
  },
  {
   "cell_type": "code",
   "execution_count": 134,
   "id": "480bc9a3-8d82-4843-97be-8126991220e8",
   "metadata": {},
   "outputs": [
    {
     "name": "stdout",
     "output_type": "stream",
     "text": [
      "                            Model  Accuracy\n",
      "8               RidgeClassifierCV  0.828622\n",
      "3      GradientBoostingClassifier  0.828602\n",
      "19     LinearDiscriminantAnalysis  0.827214\n",
      "6            LogisticRegressionCV  0.822988\n",
      "5       GaussianProcessClassifier  0.822978\n",
      "16                      LinearSVC  0.821600\n",
      "0              AdaBoostClassifier  0.820221\n",
      "15                          NuSVC  0.808914\n",
      "13           KNeighborsClassifier  0.807515\n",
      "21                  XGBClassifier  0.804806\n",
      "14                            SVC  0.804718\n",
      "4          RandomForestClassifier  0.800552\n",
      "11                    BernoulliNB  0.799094\n",
      "1               BaggingClassifier  0.796375\n",
      "17         DecisionTreeClassifier  0.779474\n",
      "2            ExtraTreesClassifier  0.773899\n",
      "10                     Perceptron  0.768157\n",
      "18            ExtraTreeClassifier  0.766946\n",
      "12                     GaussianNB  0.766768\n",
      "9                   SGDClassifier  0.713671\n",
      "7     PassiveAggressiveClassifier  0.711849\n",
      "20  QuadraticDiscriminantAnalysis  0.549079\n"
     ]
    }
   ],
   "source": [
    "# Evaluate all models with cross-validation\n",
    "model_names = []\n",
    "cv_accuracies = []\n",
    "\n",
    "for algo in algorithms:\n",
    "    pipeline = create_pipeline(algo)\n",
    "    scores = cross_val_score(pipeline, X_train, y_train, cv=5)\n",
    "    model_names.append(algo.__class__.__name__)\n",
    "    cv_accuracies.append(scores.mean())\n",
    "\n",
    "# Show cross-validation results\n",
    "model_df = pd.DataFrame({\n",
    "    'Model': model_names,\n",
    "    'Accuracy': cv_accuracies\n",
    "}).sort_values(by='Accuracy', ascending=False)\n",
    "\n",
    "print(model_df)"
   ]
  },
  {
   "cell_type": "code",
   "execution_count": null,
   "id": "7e38be0f-44b6-4792-b0c8-aedbe0e10842",
   "metadata": {},
   "outputs": [],
   "source": [
    "algo1 = ensemble.RandomForestClassifier(\n",
    "     criterion='gini',\n",
    "     n_estimators=1750,\n",
    "     max_depth=7,\n",
    "     min_samples_split=6,\n",
    "     min_samples_leaf=6,\n",
    "     max_features='sqrt',\n",
    "     oob_score=True,\n",
    "     random_state=42,\n",
    "     n_jobs=-1,\n",
    "     verbose=1\n",
    " )\n",
    "\n",
    "algo2 = ensemble.GradientBoostingClassifier(\n",
    "     max_depth=1,\n",
    "     max_features='sqrt',\n",
    "     n_estimators=3,\n",
    "     random_state=42,\n",
    "     warm_start=True\n",
    " )\n",
    "\n",
    "lda = discriminant_analysis.LinearDiscriminantAnalysis()\n",
    "\n",
    "xgb_model = XGBClassifier()"
   ]
  },
  {
   "cell_type": "code",
   "execution_count": 108,
   "id": "4992bca9-f3ba-4564-b3e6-c64e21fdb6b0",
   "metadata": {},
   "outputs": [],
   "source": [
    "#Fit and evaluate XGBoost pipeline\n",
    "xgb_pipeline = Pipeline([\n",
    "     ('num_cat_transformation', num_cat_transformation),\n",
    "     ('bins', bins),\n",
    "\n",
    "     ('classifier', lda)\n",
    "     ])"
   ]
  },
  {
   "cell_type": "code",
   "execution_count": 109,
   "id": "992288b4-5897-4b14-a203-e4c35dafde99",
   "metadata": {},
   "outputs": [
    {
     "name": "stdout",
     "output_type": "stream",
     "text": [
      "XGBoost Test Accuracy: 0.7621951219512195\n"
     ]
    }
   ],
   "source": [
    "xgb_pipeline.fit(X_train, y_train)\n",
    "y_pred = xgb_pipeline.predict(X_test)\n",
    "print(\"XGBoost Test Accuracy:\", accuracy_score(y_test, y_pred))"
   ]
  },
  {
   "cell_type": "code",
   "execution_count": 160,
   "id": "b9b53680-48af-4f47-a958-c2d09c7e2288",
   "metadata": {},
   "outputs": [
    {
     "name": "stdout",
     "output_type": "stream",
     "text": [
      "Voting Classifier Accuracy: 0.8212290502793296\n"
     ]
    }
   ],
   "source": [
    "from sklearn.ensemble import VotingClassifier\n",
    "\n",
    "voting_clf = VotingClassifier(\n",
    "    estimators=[\n",
    "        ('ridge', linear_model.RidgeClassifierCV(alphas=np.logspace(-3, 3, 10), cv=5)),\n",
    "        ('lda', discriminant_analysis.LinearDiscriminantAnalysis(solver='lsqr', shrinkage='auto')),\n",
    "        ('gb', ensemble.GradientBoostingClassifier(n_estimators=500, learning_rate=0.05, max_depth=4, random_state=42)),\n",
    "    ],\n",
    "    voting='hard'\n",
    ")\n",
    "\n",
    "ensemble_pipeline = Pipeline([\n",
    "    ('num_cat_transformation', num_cat_transformation),\n",
    "    ('bins', bins),\n",
    "    ('classifier', voting_clf)\n",
    "])\n",
    "\n",
    "ensemble_pipeline.fit(X_train, y_train)\n",
    "y_pred_ensemble = ensemble_pipeline.predict(X_test)\n",
    "print(\"Voting Classifier Accuracy:\", accuracy_score(y_test, y_pred_ensemble))\n"
   ]
  },
  {
   "cell_type": "code",
   "execution_count": 161,
   "id": "9d3f2d7f",
   "metadata": {},
   "outputs": [
    {
     "data": {
      "text/plain": [
       "['model.joblib']"
      ]
     },
     "execution_count": 161,
     "metadata": {},
     "output_type": "execute_result"
    }
   ],
   "source": [
    "import joblib\n",
    "\n",
    "joblib.dump(ensemble_pipeline, 'model.joblib')"
   ]
  },
  {
   "cell_type": "code",
   "execution_count": 197,
   "id": "deb54c52",
   "metadata": {},
   "outputs": [],
   "source": [
    "import pandas as pd\n",
    "\n",
    "custom_input = pd.DataFrame([{\n",
    "    'Age': 25,\n",
    "    'Sex': 'male',\n",
    "    'Fare': 50,\n",
    "    'Embarked': 'C',\n",
    "    'Pclass': 1,\n",
    "    'Title': 'Mr',\n",
    "    'Family_size': 'Small',\n",
    "}])\n"
   ]
  },
  {
   "cell_type": "code",
   "execution_count": 198,
   "id": "2af837c2",
   "metadata": {},
   "outputs": [
    {
     "name": "stdout",
     "output_type": "stream",
     "text": [
      "Prediction for custom input: [0]\n"
     ]
    }
   ],
   "source": [
    "y_pred = grid.best_estimator_.predict(custom_input)\n",
    "print(\"Prediction for custom input:\", y_pred)\n"
   ]
  },
  {
   "cell_type": "code",
   "execution_count": null,
   "id": "83136a85",
   "metadata": {},
   "outputs": [
    {
     "name": "stdout",
     "output_type": "stream",
     "text": [
      "Prediction for custom input: [0]\n"
     ]
    }
   ],
   "source": []
  },
  {
   "cell_type": "code",
   "execution_count": null,
   "id": "04e983dd",
   "metadata": {},
   "outputs": [],
   "source": []
  }
 ],
 "metadata": {
  "kernelspec": {
   "display_name": "titanic",
   "language": "python",
   "name": "python3"
  },
  "language_info": {
   "codemirror_mode": {
    "name": "ipython",
    "version": 3
   },
   "file_extension": ".py",
   "mimetype": "text/x-python",
   "name": "python",
   "nbconvert_exporter": "python",
   "pygments_lexer": "ipython3",
   "version": "3.13.3"
  }
 },
 "nbformat": 4,
 "nbformat_minor": 5
}
